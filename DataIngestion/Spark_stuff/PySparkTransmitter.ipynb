{
 "cells": [
  {
   "cell_type": "code",
   "execution_count": null,
   "metadata": {},
   "outputs": [],
   "source": [
    "import socket\n",
    "import sys\n",
    "import os\n",
    "import json\n",
    "\n",
    "# Create a TCP/IP socket\n",
    "sock = socket.socket(socket.AF_INET, socket.SOCK_STREAM)\n",
    "\n",
    "server_address = ('localhost', 9999)\n",
    "sock.bind(server_address)\n",
    "\n",
    "sock.listen(1)\n",
    "\n",
    "\n",
    "pathToDir = './telemetricObjects'\n",
    "\n",
    "connection, client_address = sock.accept()\n",
    "print(\"Got connection\")\n",
    "\n",
    "# Wait for a connection\n",
    "\n",
    "package = \"\"\n",
    "\n",
    "with open('test.txt', \"r\") as file:\n",
    "    mapName = None\n",
    "    lines = file.read()\n",
    "    lines = lines.split('DEL')\n",
    "    for index, l in enumerate(lines):\n",
    "        p = l.replace(\"\\n\", \"\")\n",
    "        p = p.replace(\" \", \"\")\n",
    "        p = json.loads(p)\n",
    "        if \"MapName\" in p:\n",
    "            mapName = p[\"MapName\"]\n",
    "        else:\n",
    "            p[\"Map\"] = mapName\n",
    "            p = json.dumps(p)\n",
    "            p = p.replace(\"\\n\", \"\")\n",
    "            p = p.replace(\" \", \"\")\n",
    "            p = p.replace(\"false\", \"\\\"False\\\"\")\n",
    "            package += p\n",
    "            print(package)\n",
    "            if index < len(lines) - 1:\n",
    "                package += \" \"\n",
    "package += \"\\n\"\n",
    "print(package)\n",
    "connection.send(package.encode())\n",
    "print(\"send shit\")"
   ]
  },
  {
   "cell_type": "code",
   "execution_count": 11,
   "metadata": {},
   "outputs": [
    {
     "name": "stdout",
     "output_type": "stream",
     "text": [
      "wtf\n"
     ]
    }
   ],
   "source": [
    "import json\n",
    "package = \"\"\n",
    "with open('test.txt', \"r\") as file:\n",
    "    mapName = None\n",
    "    lines = file.read()\n",
    "    lines = lines.split('DEL')\n",
    "    for index, l in enumerate(lines):\n",
    "        p = l.replace(\"\\n\", \"\")\n",
    "        p = p.replace(\" \", \"\")\n",
    "        p = json.loads(p)\n",
    "        if \"MapName\" in p:\n",
    "            mapName = p[\"MapName\"]\n",
    "            print(\"wtf\")\n",
    "        else:\n",
    "            p[\"Map\"] = mapName\n",
    "            p = json.dumps(p)\n",
    "            p = p.replace(\"\\n\", \"\")\n",
    "            p = p.replace(\" \", \"\")\n",
    "            p = p.replace(\"false\", \"\\\"False\\\"\")\n",
    "            package += p\n",
    "            if index < len(lines) - 1:\n",
    "                package += \" \"\n",
    "package += \"\\n\"\n",
    "# print(package)"
   ]
  },
  {
   "cell_type": "code",
   "execution_count": null,
   "metadata": {},
   "outputs": [],
   "source": []
  },
  {
   "cell_type": "code",
   "execution_count": null,
   "metadata": {},
   "outputs": [],
   "source": []
  }
 ],
 "metadata": {
  "kernelspec": {
   "display_name": "Python 3",
   "language": "python",
   "name": "python3"
  },
  "language_info": {
   "codemirror_mode": {
    "name": "ipython",
    "version": 3
   },
   "file_extension": ".py",
   "mimetype": "text/x-python",
   "name": "python",
   "nbconvert_exporter": "python",
   "pygments_lexer": "ipython3",
   "version": "3.7.1"
  }
 },
 "nbformat": 4,
 "nbformat_minor": 2
}
