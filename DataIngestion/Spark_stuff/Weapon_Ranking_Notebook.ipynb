{
 "cells": [
  {
   "cell_type": "code",
   "execution_count": 1,
   "metadata": {},
   "outputs": [
    {
     "name": "stdout",
     "output_type": "stream",
     "text": [
      "Connected\n"
     ]
    }
   ],
   "source": [
    "import os\n",
    "import pyspark\n",
    "from pyspark.sql import SparkSession\n",
    "from pyspark.sql.types import \\\n",
    "    StructType, StructField, \\\n",
    "    TimestampType, StringType, IntegerType, IntegerType\n",
    "\n",
    "table_schema = StructType(\n",
    "    [\n",
    "        StructField(\"timestamp\", TimestampType(), False),\n",
    "        StructField(\"map_name\", StringType(), False),\n",
    "        StructField(\"attacker_name\", StringType(), False),\n",
    "        StructField(\"attacker_x\", IntegerType(), False),\n",
    "        StructField(\"attacker_y\", IntegerType(), False),\n",
    "        StructField(\"victim_x\", IntegerType(), False),\n",
    "        StructField(\"victim_y\", IntegerType(), False),\n",
    "        StructField(\"game_stage\", IntegerType(), False),\n",
    "        StructField(\"weapon_name\", StringType(), False),\n",
    "        StructField(\"zone_x\", IntegerType(), False),\n",
    "        StructField(\"zone_y\", IntegerType(), False),\n",
    "        StructField(\"zone_radius\", IntegerType(), False),\n",
    "        StructField(\"scope\", StringType(), True),\n",
    "        StructField(\"muzzle\", StringType(), True)\n",
    "    ]\n",
    ")\n",
    "\n",
    "session = SparkSession.builder \\\n",
    "    .master(\"spark://master:7077\") \\\n",
    "    .appName(\"Weapon Ranking\") \\\n",
    "    .config(\"spark.some.config.option\", \"some-value\") \\\n",
    "    .getOrCreate()\n",
    "\n",
    "print(\"Connected\")"
   ]
  },
  {
   "cell_type": "code",
   "execution_count": 82,
   "metadata": {},
   "outputs": [],
   "source": [
    "from pyspark.sql import SQLContext\n",
    "\n",
    "df = session.read.csv(\"hdfs://master:9000/data/Baltic_Main_data.txt\", header=True, schema=table_schema, nullValue=\"None\")\n",
    "\n",
    "# drop non-existing scope and muzzles\n",
    "df = df.filter(df.scope.isNotNull() & df.muzzle.isNotNull())"
   ]
  },
  {
   "cell_type": "code",
   "execution_count": 83,
   "metadata": {},
   "outputs": [],
   "source": [
    "filtered_table = df.createOrReplaceTempView(\"Filtered_Table\")"
   ]
  },
  {
   "cell_type": "code",
   "execution_count": 84,
   "metadata": {},
   "outputs": [],
   "source": [
    "sqlContext = SQLContext(session)\n",
    "import pyspark.sql.functions as F\n"
   ]
  },
  {
   "cell_type": "code",
   "execution_count": 85,
   "metadata": {},
   "outputs": [],
   "source": [
    "best_weapons1 = []\n",
    "best_scopes1 = []\n",
    "best_muzzles1 = []\n",
    "kill_count1 = []\n",
    "\n",
    "best_weapons2 = []\n",
    "best_scopes2 = []\n",
    "best_muzzles2 = []\n",
    "kill_count2 = []\n",
    "\n",
    "best_weapons3 = []\n",
    "best_scopes3 = []\n",
    "best_muzzles3 = []\n",
    "kill_count3 = []"
   ]
  },
  {
   "cell_type": "code",
   "execution_count": 86,
   "metadata": {},
   "outputs": [
    {
     "name": "stdout",
     "output_type": "stream",
     "text": [
      "On 1...\n",
      "[Row(weapon_name='WeapHK416_C', count=109089), Row(weapon_name='WeapAK47_C', count=85555), Row(weapon_name='WeapSCAR-L_C', count=70050)]\n",
      "On 2...\n",
      "[Row(weapon_name='WeapHK416_C', count=206166), Row(weapon_name='WeapFNFal_C', count=73838), Row(weapon_name='WeapAK47_C', count=66491)]\n",
      "On 3...\n",
      "[Row(weapon_name='WeapHK416_C', count=157559), Row(weapon_name='WeapFNFal_C', count=65940), Row(weapon_name='WeapAK47_C', count=40073)]\n",
      "On 4...\n",
      "[Row(weapon_name='WeapHK416_C', count=138519), Row(weapon_name='WeapFNFal_C', count=71067), Row(weapon_name='WeapSKS_C', count=35605)]\n",
      "On 5...\n",
      "[Row(weapon_name='WeapHK416_C', count=117681), Row(weapon_name='WeapFNFal_C', count=71522), Row(weapon_name='WeapSKS_C', count=33780)]\n",
      "On 6...\n",
      "[Row(weapon_name='WeapHK416_C', count=86735), Row(weapon_name='WeapFNFal_C', count=53029), Row(weapon_name='WeapSKS_C', count=23978)]\n",
      "On 7...\n",
      "[Row(weapon_name='WeapHK416_C', count=58970), Row(weapon_name='WeapFNFal_C', count=23252), Row(weapon_name='WeapAK47_C', count=11345)]\n",
      "On 8...\n",
      "[Row(weapon_name='WeapHK416_C', count=25746), Row(weapon_name='WeapAK47_C', count=5018), Row(weapon_name='WeapSCAR-L_C', count=3079)]\n",
      "On 9...\n",
      "[Row(weapon_name='WeapHK416_C', count=840), Row(weapon_name='WeapAK47_C', count=209), Row(weapon_name='WeapSCAR-L_C', count=124)]\n"
     ]
    }
   ],
   "source": [
    "for i in range(1, 10):\n",
    "    print(\"On {}...\".format(i))\n",
    "    results = sqlContext.sql(\n",
    "        \"SELECT weapon_name, count(*) as count \" + \\\n",
    "       \" FROM Filtered_Table WHERE game_stage={} group by weapon_name\".format(i)\n",
    "    )\n",
    "    row = results.orderBy(F.desc(\"count\")).take(3)\n",
    "    print(row)\n",
    "    best_weapons1.append(row[0].__getitem__(\"weapon_name\"))\n",
    "    kill_count1.append(row[0].__getitem__(\"count\"))\n",
    "    best_weapons2.append(row[1].__getitem__(\"weapon_name\"))\n",
    "    kill_count2.append(row[1].__getitem__(\"count\"))\n",
    "    best_weapons3.append(row[2].__getitem__(\"weapon_name\"))\n",
    "    kill_count3.append(row[2].__getitem__(\"count\"))"
   ]
  },
  {
   "cell_type": "code",
   "execution_count": 88,
   "metadata": {},
   "outputs": [
    {
     "name": "stdout",
     "output_type": "stream",
     "text": [
      "['WeapHK416_C', 'WeapHK416_C', 'WeapHK416_C', 'WeapHK416_C', 'WeapHK416_C', 'WeapHK416_C', 'WeapHK416_C', 'WeapHK416_C', 'WeapHK416_C']\n",
      "[109089, 206166, 157559, 138519, 117681, 86735, 58970, 25746, 840]\n",
      "['WeapAK47_C', 'WeapFNFal_C', 'WeapFNFal_C', 'WeapFNFal_C', 'WeapFNFal_C', 'WeapFNFal_C', 'WeapFNFal_C', 'WeapAK47_C', 'WeapAK47_C']\n",
      "[85555, 73838, 65940, 71067, 71522, 53029, 23252, 5018, 209]\n",
      "['WeapSCAR-L_C', 'WeapAK47_C', 'WeapAK47_C', 'WeapSKS_C', 'WeapSKS_C', 'WeapSKS_C', 'WeapAK47_C', 'WeapSCAR-L_C', 'WeapSCAR-L_C']\n",
      "[70050, 66491, 40073, 35605, 33780, 23978, 11345, 3079, 124]\n"
     ]
    }
   ],
   "source": [
    "print(best_weapons1)\n",
    "print(kill_count1)\n",
    "print(best_weapons2)\n",
    "print(kill_count2)\n",
    "print(best_weapons3)\n",
    "print(kill_count3)"
   ]
  },
  {
   "cell_type": "code",
   "execution_count": 89,
   "metadata": {},
   "outputs": [
    {
     "name": "stdout",
     "output_type": "stream",
     "text": [
      "WeapHK416_C\n",
      "840\n"
     ]
    }
   ],
   "source": [
    "# max_row = results.groupBy(\"weapon_name\").max('count').collect()[0].asDict()\n",
    "# best_weap = max_row[\"weapon_name\"]\n",
    "# count = max_row[\"max(count)\"]\n",
    "row = results.orderBy(F.desc(\"count\")).take(1)[0]\n",
    "print(row.__getitem__(\"weapon_name\"))\n",
    "print(row.__getitem__(\"count\"))\n",
    "\n",
    "\n",
    "# print(best_weap, count)\n"
   ]
  },
  {
   "cell_type": "code",
   "execution_count": 69,
   "metadata": {},
   "outputs": [
    {
     "name": "stdout",
     "output_type": "stream",
     "text": [
      "+----------+-----------+------+----------+------+\n",
      "|game_stage|weapon_name|    ct|game_stage|    ct|\n",
      "+----------+-----------+------+----------+------+\n",
      "|         6|WeapHK416_C| 93113|         6| 93113|\n",
      "|         7|WeapHK416_C| 62620|         7| 62620|\n",
      "|         8|WeapHK416_C| 27165|         8| 27165|\n",
      "|         5|WeapHK416_C|128891|         5|128891|\n",
      "|         2|WeapHK416_C|265458|         2|265458|\n",
      "|         9|WeapHK416_C|   912|         9|   912|\n",
      "|         4|WeapHK416_C|155621|         4|155621|\n",
      "|         3|WeapHK416_C|183911|         3|183911|\n",
      "|         1|WeapHK416_C|293085|         1|293085|\n",
      "+----------+-----------+------+----------+------+\n",
      "\n"
     ]
    }
   ],
   "source": [
    "results = sqlContext.sql(\n",
    "\"\"\"\n",
    "SELECT * FROM (\n",
    "(SELECT game_stage, weapon_name, count(*) as ct from\n",
    "Filtered_Table group by game_stage, weapon_name) A\n",
    "RIGHT JOIN (\n",
    "SELECT game_stage, max(ct) ct FROM (\n",
    "SELECT game_stage, weapon_name, count(*) as ct from\n",
    "Filtered_Table group by game_stage, weapon_name) group by game_stage) B on A.game_stage = B.game_stage AND A.ct = B.ct)\n",
    "\"\"\"\n",
    ")\n",
    "results.show()"
   ]
  },
  {
   "cell_type": "code",
   "execution_count": 90,
   "metadata": {},
   "outputs": [
    {
     "name": "stdout",
     "output_type": "stream",
     "text": [
      "On 1 with WeapHK416_C...\n",
      "[Row(scope='Item_Attach_Weapon_Upper_DotSight_01_C', count=66904)]\n",
      "On 2 with WeapHK416_C...\n",
      "[Row(scope='Item_Attach_Weapon_Upper_DotSight_01_C', count=159075)]\n",
      "On 3 with WeapHK416_C...\n",
      "[Row(scope='Item_Attach_Weapon_Upper_DotSight_01_C', count=126210)]\n",
      "On 4 with WeapHK416_C...\n",
      "[Row(scope='Item_Attach_Weapon_Upper_DotSight_01_C', count=110783)]\n",
      "On 5 with WeapHK416_C...\n",
      "[Row(scope='Item_Attach_Weapon_Upper_DotSight_01_C', count=94240)]\n",
      "On 6 with WeapHK416_C...\n",
      "[Row(scope='Item_Attach_Weapon_Upper_DotSight_01_C', count=69578)]\n",
      "On 7 with WeapHK416_C...\n",
      "[Row(scope='Item_Attach_Weapon_Upper_DotSight_01_C', count=47671)]\n",
      "On 8 with WeapHK416_C...\n",
      "[Row(scope='Item_Attach_Weapon_Upper_DotSight_01_C', count=21226)]\n",
      "On 9 with WeapHK416_C...\n",
      "[Row(scope='Item_Attach_Weapon_Upper_DotSight_01_C', count=726)]\n",
      "['Item_Attach_Weapon_Upper_DotSight_01_C', 'Item_Attach_Weapon_Upper_DotSight_01_C', 'Item_Attach_Weapon_Upper_DotSight_01_C', 'Item_Attach_Weapon_Upper_DotSight_01_C', 'Item_Attach_Weapon_Upper_DotSight_01_C', 'Item_Attach_Weapon_Upper_DotSight_01_C', 'Item_Attach_Weapon_Upper_DotSight_01_C', 'Item_Attach_Weapon_Upper_DotSight_01_C', 'Item_Attach_Weapon_Upper_DotSight_01_C']\n",
      "On 1 with WeapAK47_C...\n",
      "[Row(scope='Item_Attach_Weapon_Upper_DotSight_01_C', count=51548)]\n",
      "On 2 with WeapFNFal_C...\n",
      "[Row(scope='Item_Attach_Weapon_Upper_Scope6x_C', count=25901)]\n",
      "On 3 with WeapFNFal_C...\n",
      "[Row(scope='Item_Attach_Weapon_Upper_Scope6x_C', count=26099)]\n",
      "On 4 with WeapFNFal_C...\n",
      "[Row(scope='Item_Attach_Weapon_Upper_Scope6x_C', count=29634)]\n",
      "On 5 with WeapFNFal_C...\n",
      "[Row(scope='Item_Attach_Weapon_Upper_Scope6x_C', count=31009)]\n",
      "On 6 with WeapFNFal_C...\n",
      "[Row(scope='Item_Attach_Weapon_Upper_Scope6x_C', count=23854)]\n",
      "On 7 with WeapFNFal_C...\n",
      "[Row(scope='Item_Attach_Weapon_Upper_Scope6x_C', count=10760)]\n",
      "On 8 with WeapAK47_C...\n",
      "[Row(scope='Item_Attach_Weapon_Upper_DotSight_01_C', count=4094)]\n",
      "On 9 with WeapAK47_C...\n",
      "[Row(scope='Item_Attach_Weapon_Upper_DotSight_01_C', count=161)]\n",
      "['Item_Attach_Weapon_Upper_DotSight_01_C', 'Item_Attach_Weapon_Upper_Scope6x_C', 'Item_Attach_Weapon_Upper_Scope6x_C', 'Item_Attach_Weapon_Upper_Scope6x_C', 'Item_Attach_Weapon_Upper_Scope6x_C', 'Item_Attach_Weapon_Upper_Scope6x_C', 'Item_Attach_Weapon_Upper_Scope6x_C', 'Item_Attach_Weapon_Upper_DotSight_01_C', 'Item_Attach_Weapon_Upper_DotSight_01_C']\n",
      "On 1 with WeapSCAR-L_C...\n",
      "[Row(scope='Item_Attach_Weapon_Upper_DotSight_01_C', count=39945)]\n",
      "On 2 with WeapAK47_C...\n",
      "[Row(scope='Item_Attach_Weapon_Upper_DotSight_01_C', count=48629)]\n",
      "On 3 with WeapAK47_C...\n",
      "[Row(scope='Item_Attach_Weapon_Upper_DotSight_01_C', count=30460)]\n",
      "On 4 with WeapSKS_C...\n",
      "[Row(scope='Item_Attach_Weapon_Upper_Scope6x_C', count=14443)]\n",
      "On 5 with WeapSKS_C...\n",
      "[Row(scope='Item_Attach_Weapon_Upper_Scope6x_C', count=14298)]\n",
      "On 6 with WeapSKS_C...\n",
      "[Row(scope='Item_Attach_Weapon_Upper_Scope6x_C', count=10708)]\n",
      "On 7 with WeapAK47_C...\n",
      "[Row(scope='Item_Attach_Weapon_Upper_DotSight_01_C', count=9027)]\n",
      "On 8 with WeapSCAR-L_C...\n",
      "[Row(scope='Item_Attach_Weapon_Upper_DotSight_01_C', count=2343)]\n",
      "On 9 with WeapSCAR-L_C...\n",
      "[Row(scope='Item_Attach_Weapon_Upper_DotSight_01_C', count=98)]\n",
      "['Item_Attach_Weapon_Upper_DotSight_01_C', 'Item_Attach_Weapon_Upper_DotSight_01_C', 'Item_Attach_Weapon_Upper_DotSight_01_C', 'Item_Attach_Weapon_Upper_Scope6x_C', 'Item_Attach_Weapon_Upper_Scope6x_C', 'Item_Attach_Weapon_Upper_Scope6x_C', 'Item_Attach_Weapon_Upper_DotSight_01_C', 'Item_Attach_Weapon_Upper_DotSight_01_C', 'Item_Attach_Weapon_Upper_DotSight_01_C']\n"
     ]
    }
   ],
   "source": [
    "BASE_SCOPE = \"SELECT scope, count(*) as count FROM Filtered_Table WHERE game_stage={} and weapon_name='{}' group by scope\"\n",
    "for i, weapon_name in enumerate(best_weapons1):\n",
    "    print(\"On {} with {}...\".format(i + 1, weapon_name))\n",
    "    completed = BASE_SCOPE.format(i + 1, weapon_name)\n",
    "    \n",
    "    results = sqlContext.sql(\n",
    "       completed\n",
    "    )\n",
    "    row = results.orderBy(F.desc(\"count\")).take(1)\n",
    "    print(row)\n",
    "    best_scopes1.append(row[0].__getitem__(\"scope\"))\n",
    "    \n",
    "print(best_scopes1)\n",
    "\n",
    "for i, weapon_name in enumerate(best_weapons2):\n",
    "    print(\"On {} with {}...\".format(i + 1, weapon_name))\n",
    "    completed = BASE_SCOPE.format(i + 1, weapon_name)\n",
    "    \n",
    "    results = sqlContext.sql(\n",
    "       completed\n",
    "    )\n",
    "    row = results.orderBy(F.desc(\"count\")).take(1)\n",
    "    print(row)\n",
    "    best_scopes2.append(row[0].__getitem__(\"scope\"))\n",
    "    \n",
    "print(best_scopes2)\n",
    "\n",
    "for i, weapon_name in enumerate(best_weapons3):\n",
    "    print(\"On {} with {}...\".format(i + 1, weapon_name))\n",
    "    completed = BASE_SCOPE.format(i + 1, weapon_name)\n",
    "    \n",
    "    results = sqlContext.sql(\n",
    "       completed\n",
    "    )\n",
    "    row = results.orderBy(F.desc(\"count\")).take(1)\n",
    "    print(row)\n",
    "    best_scopes3.append(row[0].__getitem__(\"scope\"))\n",
    "    \n",
    "print(best_scopes3)"
   ]
  },
  {
   "cell_type": "code",
   "execution_count": null,
   "metadata": {},
   "outputs": [
    {
     "name": "stdout",
     "output_type": "stream",
     "text": [
      "On 1 with WeapAK47_C...\n",
      "[Row(muzzle='Item_Attach_Weapon_Muzzle_Compensator_Large_C', count=41857)]\n",
      "On 2 with WeapFNFal_C...\n",
      "[Row(muzzle='Item_Attach_Weapon_Muzzle_Suppressor_Large_C', count=14329)]\n",
      "On 3 with WeapFNFal_C...\n",
      "[Row(muzzle='Item_Attach_Weapon_Muzzle_Suppressor_Large_C', count=13544)]\n",
      "On 4 with WeapFNFal_C...\n",
      "[Row(muzzle='Item_Attach_Weapon_Muzzle_Suppressor_Large_C', count=15325)]\n",
      "On 5 with WeapFNFal_C...\n",
      "[Row(muzzle='Item_Attach_Weapon_Muzzle_Suppressor_Large_C', count=15707)]\n",
      "On 6 with WeapFNFal_C...\n",
      "[Row(muzzle='Item_Attach_Weapon_Muzzle_Suppressor_SniperRifle_C', count=11603)]\n",
      "On 7 with WeapFNFal_C...\n",
      "[Row(muzzle='Item_Attach_Weapon_Muzzle_Compensator_Large_C', count=5137)]\n",
      "On 8 with WeapAK47_C...\n",
      "[Row(muzzle='Item_Attach_Weapon_Muzzle_Compensator_Large_C', count=3936)]\n",
      "On 9 with WeapAK47_C...\n",
      "[Row(muzzle='Item_Attach_Weapon_Muzzle_Compensator_Large_C', count=164)]\n",
      "['Item_Attach_Weapon_Muzzle_Compensator_Large_C', 'Item_Attach_Weapon_Muzzle_Suppressor_Large_C', 'Item_Attach_Weapon_Muzzle_Suppressor_Large_C', 'Item_Attach_Weapon_Muzzle_Suppressor_Large_C', 'Item_Attach_Weapon_Muzzle_Suppressor_Large_C', 'Item_Attach_Weapon_Muzzle_Suppressor_SniperRifle_C', 'Item_Attach_Weapon_Muzzle_Compensator_Large_C', 'Item_Attach_Weapon_Muzzle_Compensator_Large_C', 'Item_Attach_Weapon_Muzzle_Compensator_Large_C']\n",
      "On 1 with WeapSCAR-L_C...\n",
      "[Row(muzzle='Item_Attach_Weapon_Muzzle_FlashHider_Large_C', count=32232)]\n",
      "On 2 with WeapAK47_C...\n",
      "[Row(muzzle='Item_Attach_Weapon_Muzzle_Compensator_Large_C', count=40470)]\n",
      "On 3 with WeapAK47_C...\n",
      "[Row(muzzle='Item_Attach_Weapon_Muzzle_Compensator_Large_C', count=26488)]\n",
      "On 4 with WeapSKS_C...\n",
      "[Row(muzzle='Item_Attach_Weapon_Muzzle_Suppressor_Large_C', count=7849)]\n",
      "On 5 with WeapSKS_C...\n",
      "[Row(muzzle='Item_Attach_Weapon_Muzzle_Suppressor_Large_C', count=7461)]\n",
      "On 6 with WeapSKS_C...\n",
      "[Row(muzzle='Item_Attach_Weapon_Muzzle_Suppressor_Large_C', count=5499)]\n",
      "On 7 with WeapAK47_C...\n"
     ]
    }
   ],
   "source": [
    "# BASE_MUZZLE = \"SELECT muzzle, count(*) as count FROM Filtered_Table WHERE game_stage={} and weapon_name='{}' group by muzzle\"\n",
    "# for i, weapon_name in enumerate(best_weapons1):\n",
    "#     print(\"On {} with {}...\".format(i + 1, weapon_name))\n",
    "#     completed = BASE_MUZZLE.format(i + 1, weapon_name)\n",
    "    \n",
    "#     results = sqlContext.sql(\n",
    "#        completed\n",
    "#     )\n",
    "#     row = results.orderBy(F.desc(\"count\")).take(1)\n",
    "#     print(row)\n",
    "#     best_muzzles1.append(row[0].__getitem__(\"muzzle\"))\n",
    "    \n",
    "# print(best_muzzles1)\n",
    "\n",
    "best_muzzles2 = []\n",
    "for i, weapon_name in enumerate(best_weapons2):\n",
    "    print(\"On {} with {}...\".format(i + 1, weapon_name))\n",
    "    completed = BASE_MUZZLE.format(i + 1, weapon_name)\n",
    "    \n",
    "    results = sqlContext.sql(\n",
    "       completed\n",
    "    )\n",
    "    row = results.orderBy(F.desc(\"count\")).take(1)\n",
    "    print(row)\n",
    "    best_muzzles2.append(row[0].__getitem__(\"muzzle\"))\n",
    "    \n",
    "print(best_muzzles2)\n",
    "\n",
    "for i, weapon_name in enumerate(best_weapons3):\n",
    "    print(\"On {} with {}...\".format(i + 1, weapon_name))\n",
    "    completed = BASE_MUZZLE.format(i + 1, weapon_name)\n",
    "    \n",
    "    results = sqlContext.sql(\n",
    "       completed\n",
    "    )\n",
    "    row = results.orderBy(F.desc(\"count\")).take(1)\n",
    "    print(row)\n",
    "    best_muzzles3.append(row[0].__getitem__(\"muzzle\"))\n",
    "    \n",
    "print(best_muzzles3)"
   ]
  },
  {
   "cell_type": "code",
   "execution_count": 22,
   "metadata": {},
   "outputs": [
    {
     "name": "stdout",
     "output_type": "stream",
     "text": [
      "+----------+-------------+---------------------+\n",
      "|game_stage|  weapon_name|numberOfTimesOccurred|\n",
      "+----------+-------------+---------------------+\n",
      "|         1|  WeapGroza_C|                   90|\n",
      "|         2|  WeapGroza_C|                  301|\n",
      "|         3|  WeapGroza_C|                 2157|\n",
      "|         4|  WeapGroza_C|                 4486|\n",
      "|         4|  WeapGroza_C|                 4486|\n",
      "|         6|  WeapGroza_C|                 5493|\n",
      "|         7|  WeapGroza_C|                 5798|\n",
      "|         8|  WeapGroza_C|                 6261|\n",
      "|         9|  WeapGroza_C|                 6486|\n",
      "|         1|WeapSaiga12_C|                    3|\n",
      "|         1|WeapSaiga12_C|                    3|\n",
      "|         3|WeapSaiga12_C|                   16|\n",
      "|         4|WeapSaiga12_C|                   23|\n",
      "|         5|WeapSaiga12_C|                   45|\n",
      "|         6|WeapSaiga12_C|                   57|\n",
      "|         7|WeapSaiga12_C|                  178|\n",
      "|         8|WeapSaiga12_C|                 3599|\n",
      "|         1|    WeapSKS_C|                    3|\n",
      "|         2|    WeapSKS_C|                 1439|\n",
      "|         3|    WeapSKS_C|                11549|\n",
      "+----------+-------------+---------------------+\n",
      "only showing top 20 rows\n",
      "\n"
     ]
    }
   ],
   "source": [
    "from pyspark.sql import Window\n",
    "from pyspark.sql.functions import rank\n",
    "window = Window.partitionBy(\"weapon_name\").orderBy(\"numberOfTimesOccurred\")\n",
    "results.withColumn(\"game_stage\", rank().over(window)).show()"
   ]
  },
  {
   "cell_type": "code",
   "execution_count": 18,
   "metadata": {},
   "outputs": [
    {
     "ename": "AttributeError",
     "evalue": "'GroupedData' object has no attribute 'sort'",
     "output_type": "error",
     "traceback": [
      "\u001b[0;31m---------------------------------------------------------------------------\u001b[0m",
      "\u001b[0;31mAttributeError\u001b[0m                            Traceback (most recent call last)",
      "\u001b[0;32m<ipython-input-18-58127b9356b6>\u001b[0m in \u001b[0;36m<module>\u001b[0;34m\u001b[0m\n\u001b[1;32m      1\u001b[0m \u001b[0;32mfrom\u001b[0m \u001b[0mpyspark\u001b[0m\u001b[0;34m.\u001b[0m\u001b[0msql\u001b[0m\u001b[0;34m.\u001b[0m\u001b[0mfunctions\u001b[0m \u001b[0;32mimport\u001b[0m \u001b[0mdesc\u001b[0m\u001b[0;34m\u001b[0m\u001b[0;34m\u001b[0m\u001b[0m\n\u001b[1;32m      2\u001b[0m \u001b[0;34m\u001b[0m\u001b[0m\n\u001b[0;32m----> 3\u001b[0;31m \u001b[0mresults\u001b[0m\u001b[0;34m.\u001b[0m\u001b[0mgroupby\u001b[0m\u001b[0;34m(\u001b[0m\u001b[0;34m\"game_stage\"\u001b[0m\u001b[0;34m)\u001b[0m\u001b[0;34m.\u001b[0m\u001b[0msort\u001b[0m\u001b[0;34m(\u001b[0m\u001b[0mdesc\u001b[0m\u001b[0;34m(\u001b[0m\u001b[0;34m\"count\"\u001b[0m\u001b[0;34m)\u001b[0m\u001b[0;34m)\u001b[0m\u001b[0;34m.\u001b[0m\u001b[0mlimit\u001b[0m\u001b[0;34m(\u001b[0m\u001b[0;36m3\u001b[0m\u001b[0;34m)\u001b[0m\u001b[0;34m.\u001b[0m\u001b[0mshow\u001b[0m\u001b[0;34m(\u001b[0m\u001b[0;34m)\u001b[0m\u001b[0;34m\u001b[0m\u001b[0;34m\u001b[0m\u001b[0m\n\u001b[0m",
      "\u001b[0;31mAttributeError\u001b[0m: 'GroupedData' object has no attribute 'sort'"
     ]
    }
   ],
   "source": [
    "from pyspark.sql.functions import desc\n",
    "\n",
    "results.groupby(\"game_stage\").sort(desc(\"count\")).limit(3).show()"
   ]
  },
  {
   "cell_type": "code",
   "execution_count": 16,
   "metadata": {},
   "outputs": [],
   "source": [
    "results2 = sqlContext.sql(\n",
    "    \"SELECT game_stage, weapon_name, scope, max(numberOfTimesOccurred) as countt FROM\" + \\\n",
    "    \"(SELECT game_stage, weapon_name, scope, max(ct) as numberOfTimesOccurred FROM \" + \\\n",
    "    \"(SELECT game_stage, weapon_name, scope, count(*) as ct FROM Filtered_Table \" + \\\n",
    "    \"group by game_stage, weapon_name, scope) group by game_stage, weapon_name, scope) group by game_stage, weapon_name, scope\"\n",
    ")"
   ]
  },
  {
   "cell_type": "code",
   "execution_count": 18,
   "metadata": {},
   "outputs": [
    {
     "data": {
      "text/plain": [
       "1354"
      ]
     },
     "execution_count": 18,
     "metadata": {},
     "output_type": "execute_result"
    }
   ],
   "source": [
    "results2.count()"
   ]
  },
  {
   "cell_type": "code",
   "execution_count": null,
   "metadata": {},
   "outputs": [],
   "source": []
  }
 ],
 "metadata": {
  "kernelspec": {
   "display_name": "Python 3",
   "language": "python",
   "name": "python3"
  },
  "language_info": {
   "codemirror_mode": {
    "name": "ipython",
    "version": 3
   },
   "file_extension": ".py",
   "mimetype": "text/x-python",
   "name": "python",
   "nbconvert_exporter": "python",
   "pygments_lexer": "ipython3",
   "version": "3.6.9"
  }
 },
 "nbformat": 4,
 "nbformat_minor": 4
}
